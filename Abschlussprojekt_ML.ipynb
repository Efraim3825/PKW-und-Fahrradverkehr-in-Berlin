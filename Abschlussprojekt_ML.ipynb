{
 "cells": [
  {
   "cell_type": "markdown",
   "id": "ecebc31f-6b43-4f37-af74-85873a3daf92",
   "metadata": {},
   "source": [
    "#  <ins>Verkehrsuntersuchung - Machine Learning</ins>"
   ]
  },
  {
   "cell_type": "markdown",
   "id": "551b1161-9c40-4cf5-891d-a02504a8a65b",
   "metadata": {},
   "source": [
    "## Initialisierung"
   ]
  },
  {
   "cell_type": "code",
   "execution_count": 1,
   "id": "2008f57f-00a6-4efe-8bbe-ed09744526dd",
   "metadata": {},
   "outputs": [],
   "source": [
    "import gzip\n",
    "import numpy as np\n",
    "import pandas as pd\n",
    "from sqlalchemy import create_engine#, text, MetaData, Table, Column, String\n",
    "from geopy.geocoders import Nominatim\n",
    "import seaborn as sns\n",
    "import matplotlib.pyplot as plt\n",
    "import holidays\n",
    "from sklearn.preprocessing import MinMaxScaler, StandardScaler\n",
    "from sklearn.model_selection import train_test_split\n",
    "from sklearn.linear_model import LinearRegression\n",
    "from sklearn.ensemble import RandomForestRegressor, GradientBoostingRegressor\n",
    "from sklearn.svm import SVR\n",
    "from sklearn.metrics import r2_score, mean_squared_error"
   ]
  },
  {
   "cell_type": "code",
   "execution_count": 2,
   "id": "c121c0ac-b350-464e-a782-0c717a27d45e",
   "metadata": {},
   "outputs": [],
   "source": [
    "sql_password = '' # Benutze hier dein MySQL- Passwort\n",
    "engine = create_engine('mysql+mysqlconnector://root:' + sql_password + '@localhost:3306/verkehrsprojekt')\n",
    "connection = engine.connect()"
   ]
  },
  {
   "cell_type": "markdown",
   "id": "5cb7205b-3300-4e88-a416-13cbf48fb5e7",
   "metadata": {},
   "source": [
    "## Machine Learning"
   ]
  },
  {
   "cell_type": "markdown",
   "id": "819163fc-b402-4b4d-8e7e-7771a78a9986",
   "metadata": {},
   "source": [
    "#### Dataframe erstellen"
   ]
  },
  {
   "cell_type": "code",
   "execution_count": 3,
   "id": "d8d783fd-a3b9-43b9-966b-d39a54cbd54d",
   "metadata": {},
   "outputs": [],
   "source": [
    "# pkw- Spalte\n",
    "\n",
    "query = f\"\"\"\n",
    "SELECT  \n",
    "    timestamp, Durchschnitt\n",
    "FROM \n",
    "    pkw_daten\n",
    "\"\"\"\n",
    "df = pd.read_sql(query,engine)\n",
    "df = df.rename(columns = {'Durchschnitt':'Anzahl PKW'})\n",
    "df  = df.set_index('timestamp')\n",
    "pkw_spalte = df"
   ]
  },
  {
   "cell_type": "code",
   "execution_count": 4,
   "id": "baf81ae9-80b3-4bfa-a4db-232ee6ad6025",
   "metadata": {},
   "outputs": [],
   "source": [
    "# Fahrrad- Spalte\n",
    "\n",
    "query = f\"\"\"\n",
    "SELECT  \n",
    "    timestamp, Durchschnitt\n",
    "FROM \n",
    "    fahrraddaten\n",
    "\"\"\"\n",
    "df = pd.read_sql(query,engine)\n",
    "df = df.rename(columns = {'Durchschnitt':'Anzahl Fahrräder'})\n",
    "df  = df.set_index('timestamp')\n",
    "fahrrad_spalte = df"
   ]
  },
  {
   "cell_type": "code",
   "execution_count": 5,
   "id": "2f2432dc-669c-4603-8bce-95de74925915",
   "metadata": {},
   "outputs": [],
   "source": [
    "# Dataframe für Machine learning erstellen\n",
    "\n",
    "df = pd.read_csv('Wetterdaten_Bezirke_Durchschnitt.csv', decimal = '.' )\n",
    "df['time'] = pd.to_datetime(df['time'])\n",
    "df['precipitation (mm)'] = df['rain (mm)'] + 10*df['snowfall (cm)']\n",
    "df = df.drop(columns = ['rain (mm)', 'snowfall (cm)'])\n",
    "df['dayofweek'] = df['time'].dt.dayofweek\n",
    "df['month'] = df['time'].dt.month\n",
    "df['hour'] = df['time'].dt.hour \n",
    "berlin_holidays = holidays.Germany(state = 'BE')\n",
    "df['is_holiday'] = df['time'].apply(lambda x: berlin_holidays.get(x, None))\n",
    "df['is_holiday'] = df['is_holiday'].apply(lambda x: 1 if isinstance(x, str) else 0) # Es ist komisch, dass ich das in zwei Schritten machen muss. Aber die isin- methode hat komische Ergebnisse produziert\n",
    "df = df.rename(columns = {'time':'timestamp'})\n",
    "df = df.set_index('timestamp')\n",
    "df = pd.concat([df, pkw_spalte, fahrrad_spalte], axis = 1)\n",
    "df['n'] = df['Anzahl PKW'] + df['Anzahl Fahrräder']\n",
    "\n",
    "# Normalisierung\n",
    "scaler = MinMaxScaler()\n",
    "#df[['relative_humidity_2m (%)','cloud_cover (%)', 'temperature_2m (°C)']] = scaler.fit_transform(df[['relative_humidity_2m (%)','cloud_cover (%)', 'temperature_2m (°C)']])"
   ]
  },
  {
   "cell_type": "code",
   "execution_count": 6,
   "id": "012531d6-0e90-415e-b728-c3a0aeedf65a",
   "metadata": {},
   "outputs": [],
   "source": [
    "#wetter_features = df[['temperature_2m (°C)','temperature_2m (°C) ^2', 'relative_humidity_2m (%)', 'relative_humidity_2m (%) ^2', 'cloud_cover (%)', 'cloud_cover (%) ^2', 'precipitation (mm)', 'precipitation (mm) ^2']]\n",
    "wetter_features = df[['temperature_2m (°C)', 'relative_humidity_2m (%)', 'cloud_cover (%)', 'precipitation (mm)']]\n",
    "zeit_features = df[['dayofweek', 'month', 'hour']]\n",
    "zeit_features = pd.concat( [ zeit_features.drop('dayofweek', axis = 1), pd.get_dummies(zeit_features['dayofweek'], prefix = 'dow', dtype = int) ], axis = 1)\n",
    "zeit_features = pd.concat( [ zeit_features.drop('month', axis = 1), pd.get_dummies(zeit_features['month'], prefix = 'month', dtype = int) ], axis = 1)\n",
    "zeit_features = pd.concat( [ zeit_features.drop('hour', axis = 1), pd.get_dummies(zeit_features['hour'], prefix = 'hour', dtype = int) ], axis = 1)"
   ]
  },
  {
   "cell_type": "code",
   "execution_count": 7,
   "id": "0a5b0a3b-7361-40c4-b29c-e564422be0e7",
   "metadata": {},
   "outputs": [],
   "source": [
    "# NaN filtern\n",
    "df = df[~df['Anzahl PKW'].isna()]\n",
    "df = df[~df['Anzahl Fahrräder'].isna()]"
   ]
  },
  {
   "cell_type": "code",
   "execution_count": 8,
   "id": "5b00abf6-b73c-4422-9175-be943b74048d",
   "metadata": {},
   "outputs": [],
   "source": [
    "# Aureißer ausschließen\n",
    "problem_tage = [\n",
    "'2018-04-25',\n",
    "'2019-07-28',\n",
    "'2019-10-20',\n",
    "'2021-12-13',\n",
    "'2023-01-30',\n",
    "'2023-05-15',\n",
    "]\n",
    "problem_tage = pd.to_datetime(problem_tage)\n",
    "filt = df.index.normalize().isin(problem_tage)\n",
    "df = df[~filt]"
   ]
  },
  {
   "cell_type": "code",
   "execution_count": 9,
   "id": "b8157631-c559-410d-add5-eb755a6711d7",
   "metadata": {},
   "outputs": [],
   "source": [
    "df_unscaled = df.copy()"
   ]
  },
  {
   "cell_type": "markdown",
   "id": "8c29d8e4-1594-425d-9979-f2b4728b13b9",
   "metadata": {},
   "source": [
    "#### Betrachte den Dataframe"
   ]
  },
  {
   "cell_type": "code",
   "execution_count": 10,
   "id": "4bf0e131-44da-4376-b8a3-aa3954e2984b",
   "metadata": {},
   "outputs": [
    {
     "data": {
      "text/html": [
       "<div>\n",
       "<style scoped>\n",
       "    .dataframe tbody tr th:only-of-type {\n",
       "        vertical-align: middle;\n",
       "    }\n",
       "\n",
       "    .dataframe tbody tr th {\n",
       "        vertical-align: top;\n",
       "    }\n",
       "\n",
       "    .dataframe thead th {\n",
       "        text-align: right;\n",
       "    }\n",
       "</style>\n",
       "<table border=\"1\" class=\"dataframe\">\n",
       "  <thead>\n",
       "    <tr style=\"text-align: right;\">\n",
       "      <th></th>\n",
       "      <th>temperature_2m (°C)</th>\n",
       "      <th>relative_humidity_2m (%)</th>\n",
       "      <th>cloud_cover (%)</th>\n",
       "      <th>precipitation (mm)</th>\n",
       "      <th>dayofweek</th>\n",
       "      <th>month</th>\n",
       "      <th>hour</th>\n",
       "      <th>is_holiday</th>\n",
       "      <th>Anzahl PKW</th>\n",
       "      <th>Anzahl Fahrräder</th>\n",
       "      <th>n</th>\n",
       "    </tr>\n",
       "    <tr>\n",
       "      <th>timestamp</th>\n",
       "      <th></th>\n",
       "      <th></th>\n",
       "      <th></th>\n",
       "      <th></th>\n",
       "      <th></th>\n",
       "      <th></th>\n",
       "      <th></th>\n",
       "      <th></th>\n",
       "      <th></th>\n",
       "      <th></th>\n",
       "      <th></th>\n",
       "    </tr>\n",
       "  </thead>\n",
       "  <tbody>\n",
       "    <tr>\n",
       "      <th>2018-01-01 00:00:00</th>\n",
       "      <td>11.066667</td>\n",
       "      <td>71.666667</td>\n",
       "      <td>61.333333</td>\n",
       "      <td>0.000000</td>\n",
       "      <td>0</td>\n",
       "      <td>1</td>\n",
       "      <td>0</td>\n",
       "      <td>1</td>\n",
       "      <td>183.208</td>\n",
       "      <td>6.538462</td>\n",
       "      <td>189.746462</td>\n",
       "    </tr>\n",
       "    <tr>\n",
       "      <th>2018-01-01 01:00:00</th>\n",
       "      <td>11.141667</td>\n",
       "      <td>70.000000</td>\n",
       "      <td>77.250000</td>\n",
       "      <td>0.016667</td>\n",
       "      <td>0</td>\n",
       "      <td>1</td>\n",
       "      <td>1</td>\n",
       "      <td>1</td>\n",
       "      <td>357.316</td>\n",
       "      <td>10.730769</td>\n",
       "      <td>368.046769</td>\n",
       "    </tr>\n",
       "    <tr>\n",
       "      <th>2018-01-01 02:00:00</th>\n",
       "      <td>11.591667</td>\n",
       "      <td>64.500000</td>\n",
       "      <td>92.416667</td>\n",
       "      <td>0.000000</td>\n",
       "      <td>0</td>\n",
       "      <td>1</td>\n",
       "      <td>2</td>\n",
       "      <td>1</td>\n",
       "      <td>359.928</td>\n",
       "      <td>15.153846</td>\n",
       "      <td>375.081846</td>\n",
       "    </tr>\n",
       "    <tr>\n",
       "      <th>2018-01-01 03:00:00</th>\n",
       "      <td>11.825000</td>\n",
       "      <td>62.083333</td>\n",
       "      <td>95.916667</td>\n",
       "      <td>0.000000</td>\n",
       "      <td>0</td>\n",
       "      <td>1</td>\n",
       "      <td>3</td>\n",
       "      <td>1</td>\n",
       "      <td>284.856</td>\n",
       "      <td>13.269231</td>\n",
       "      <td>298.125231</td>\n",
       "    </tr>\n",
       "    <tr>\n",
       "      <th>2018-01-01 04:00:00</th>\n",
       "      <td>11.641667</td>\n",
       "      <td>63.416667</td>\n",
       "      <td>93.916667</td>\n",
       "      <td>0.000000</td>\n",
       "      <td>0</td>\n",
       "      <td>1</td>\n",
       "      <td>4</td>\n",
       "      <td>1</td>\n",
       "      <td>225.944</td>\n",
       "      <td>8.115385</td>\n",
       "      <td>234.059385</td>\n",
       "    </tr>\n",
       "  </tbody>\n",
       "</table>\n",
       "</div>"
      ],
      "text/plain": [
       "                     temperature_2m (°C)  relative_humidity_2m (%)  \\\n",
       "timestamp                                                            \n",
       "2018-01-01 00:00:00            11.066667                 71.666667   \n",
       "2018-01-01 01:00:00            11.141667                 70.000000   \n",
       "2018-01-01 02:00:00            11.591667                 64.500000   \n",
       "2018-01-01 03:00:00            11.825000                 62.083333   \n",
       "2018-01-01 04:00:00            11.641667                 63.416667   \n",
       "\n",
       "                     cloud_cover (%)  precipitation (mm)  dayofweek  month  \\\n",
       "timestamp                                                                    \n",
       "2018-01-01 00:00:00        61.333333            0.000000          0      1   \n",
       "2018-01-01 01:00:00        77.250000            0.016667          0      1   \n",
       "2018-01-01 02:00:00        92.416667            0.000000          0      1   \n",
       "2018-01-01 03:00:00        95.916667            0.000000          0      1   \n",
       "2018-01-01 04:00:00        93.916667            0.000000          0      1   \n",
       "\n",
       "                     hour  is_holiday  Anzahl PKW  Anzahl Fahrräder  \\\n",
       "timestamp                                                             \n",
       "2018-01-01 00:00:00     0           1     183.208          6.538462   \n",
       "2018-01-01 01:00:00     1           1     357.316         10.730769   \n",
       "2018-01-01 02:00:00     2           1     359.928         15.153846   \n",
       "2018-01-01 03:00:00     3           1     284.856         13.269231   \n",
       "2018-01-01 04:00:00     4           1     225.944          8.115385   \n",
       "\n",
       "                              n  \n",
       "timestamp                        \n",
       "2018-01-01 00:00:00  189.746462  \n",
       "2018-01-01 01:00:00  368.046769  \n",
       "2018-01-01 02:00:00  375.081846  \n",
       "2018-01-01 03:00:00  298.125231  \n",
       "2018-01-01 04:00:00  234.059385  "
      ]
     },
     "execution_count": 10,
     "metadata": {},
     "output_type": "execute_result"
    }
   ],
   "source": [
    "df.head()"
   ]
  },
  {
   "cell_type": "code",
   "execution_count": 11,
   "id": "95ff9552-550c-4f87-bda6-32d2be2724a9",
   "metadata": {},
   "outputs": [],
   "source": [
    "#sns.pairplot(df, plot_kws={\"s\": 0.05})"
   ]
  },
  {
   "cell_type": "code",
   "execution_count": 12,
   "id": "3888f4f2-d7c9-4673-84ba-535ff6b0bd1f",
   "metadata": {},
   "outputs": [
    {
     "data": {
      "text/html": [
       "<div>\n",
       "<style scoped>\n",
       "    .dataframe tbody tr th:only-of-type {\n",
       "        vertical-align: middle;\n",
       "    }\n",
       "\n",
       "    .dataframe tbody tr th {\n",
       "        vertical-align: top;\n",
       "    }\n",
       "\n",
       "    .dataframe thead th {\n",
       "        text-align: right;\n",
       "    }\n",
       "</style>\n",
       "<table border=\"1\" class=\"dataframe\">\n",
       "  <thead>\n",
       "    <tr style=\"text-align: right;\">\n",
       "      <th></th>\n",
       "      <th>temperature_2m (°C)</th>\n",
       "      <th>relative_humidity_2m (%)</th>\n",
       "      <th>cloud_cover (%)</th>\n",
       "      <th>precipitation (mm)</th>\n",
       "      <th>dayofweek</th>\n",
       "      <th>month</th>\n",
       "      <th>hour</th>\n",
       "      <th>is_holiday</th>\n",
       "      <th>Anzahl PKW</th>\n",
       "      <th>Anzahl Fahrräder</th>\n",
       "      <th>n</th>\n",
       "    </tr>\n",
       "    <tr>\n",
       "      <th>timestamp</th>\n",
       "      <th></th>\n",
       "      <th></th>\n",
       "      <th></th>\n",
       "      <th></th>\n",
       "      <th></th>\n",
       "      <th></th>\n",
       "      <th></th>\n",
       "      <th></th>\n",
       "      <th></th>\n",
       "      <th></th>\n",
       "      <th></th>\n",
       "    </tr>\n",
       "  </thead>\n",
       "  <tbody>\n",
       "  </tbody>\n",
       "</table>\n",
       "</div>"
      ],
      "text/plain": [
       "Empty DataFrame\n",
       "Columns: [temperature_2m (°C), relative_humidity_2m (%), cloud_cover (%), precipitation (mm), dayofweek, month, hour, is_holiday, Anzahl PKW, Anzahl Fahrräder, n]\n",
       "Index: []"
      ]
     },
     "execution_count": 12,
     "metadata": {},
     "output_type": "execute_result"
    }
   ],
   "source": [
    "df[df['temperature_2m (°C)'].isna()]"
   ]
  },
  {
   "cell_type": "code",
   "execution_count": 13,
   "id": "3c7d7823-cb68-4d7e-b07f-a00d3432ac4b",
   "metadata": {},
   "outputs": [],
   "source": [
    "renaming_dict = {\n",
    "'temperature_2m (°C)': 'Temperature (°C)',\n",
    "'relative_humidity_2m (%)': 'rel. Humidity (%)',\n",
    "'cloud_cover (%)': 'Clouding Cover (%)',\n",
    "'precipitation (mm)': 'Precipitation (mm)',\n",
    "'dayofweek':'Day of Week',\n",
    "'month': 'Month',\n",
    "'hour': 'Hour',\n",
    "'is_holiday': 'is Holiday',\n",
    "'Anzahl PKW': 'Car count',\n",
    "'Anzahl Fahrräder': 'Bike count'\n",
    "}\n",
    "df = df.rename(columns = renaming_dict)"
   ]
  },
  {
   "cell_type": "code",
   "execution_count": 14,
   "id": "ad33ddf3-85f8-4ac1-9482-50fa895672e6",
   "metadata": {},
   "outputs": [
    {
     "data": {
      "text/html": [
       "<div>\n",
       "<style scoped>\n",
       "    .dataframe tbody tr th:only-of-type {\n",
       "        vertical-align: middle;\n",
       "    }\n",
       "\n",
       "    .dataframe tbody tr th {\n",
       "        vertical-align: top;\n",
       "    }\n",
       "\n",
       "    .dataframe thead th {\n",
       "        text-align: right;\n",
       "    }\n",
       "</style>\n",
       "<table border=\"1\" class=\"dataframe\">\n",
       "  <thead>\n",
       "    <tr style=\"text-align: right;\">\n",
       "      <th></th>\n",
       "      <th>Car count</th>\n",
       "      <th>Bike count</th>\n",
       "    </tr>\n",
       "  </thead>\n",
       "  <tbody>\n",
       "    <tr>\n",
       "      <th>count</th>\n",
       "      <td>51886.000000</td>\n",
       "      <td>51886.000000</td>\n",
       "    </tr>\n",
       "    <tr>\n",
       "      <th>mean</th>\n",
       "      <td>440.466693</td>\n",
       "      <td>90.083151</td>\n",
       "    </tr>\n",
       "    <tr>\n",
       "      <th>std</th>\n",
       "      <td>247.726517</td>\n",
       "      <td>79.933258</td>\n",
       "    </tr>\n",
       "    <tr>\n",
       "      <th>min</th>\n",
       "      <td>20.661597</td>\n",
       "      <td>0.115385</td>\n",
       "    </tr>\n",
       "    <tr>\n",
       "      <th>25%</th>\n",
       "      <td>187.627605</td>\n",
       "      <td>19.213942</td>\n",
       "    </tr>\n",
       "    <tr>\n",
       "      <th>50%</th>\n",
       "      <td>475.621792</td>\n",
       "      <td>70.423077</td>\n",
       "    </tr>\n",
       "    <tr>\n",
       "      <th>75%</th>\n",
       "      <td>657.805121</td>\n",
       "      <td>141.133333</td>\n",
       "    </tr>\n",
       "    <tr>\n",
       "      <th>max</th>\n",
       "      <td>923.629482</td>\n",
       "      <td>423.500000</td>\n",
       "    </tr>\n",
       "  </tbody>\n",
       "</table>\n",
       "</div>"
      ],
      "text/plain": [
       "          Car count    Bike count\n",
       "count  51886.000000  51886.000000\n",
       "mean     440.466693     90.083151\n",
       "std      247.726517     79.933258\n",
       "min       20.661597      0.115385\n",
       "25%      187.627605     19.213942\n",
       "50%      475.621792     70.423077\n",
       "75%      657.805121    141.133333\n",
       "max      923.629482    423.500000"
      ]
     },
     "execution_count": 14,
     "metadata": {},
     "output_type": "execute_result"
    }
   ],
   "source": [
    "df[['Car count', 'Bike count']].describe()"
   ]
  },
  {
   "cell_type": "markdown",
   "id": "5fb3e936-a043-435c-884f-9e2dfc509c1e",
   "metadata": {},
   "source": [
    "#### Automatisierte Analyse"
   ]
  },
  {
   "cell_type": "code",
   "execution_count": 15,
   "id": "31b0a00e-0872-4373-b078-cf9a6c60dc46",
   "metadata": {},
   "outputs": [
    {
     "data": {
      "text/plain": [
       "\"wetter_features = df_unscaled[['temperature_2m (°C)', 'relative_humidity_2m (%)', 'cloud_cover (%)', 'precipitation (mm)']]\\nzeit_features = df_unscaled[['dayofweek', 'month', 'hour']]\\nzeit_features = pd.concat( [ zeit_features.drop('dayofweek', axis = 1), pd.get_dummies(zeit_features['dayofweek'], prefix = 'dow', dtype = int) ], axis = 1)\\nzeit_features = pd.concat( [ zeit_features.drop('month', axis = 1), pd.get_dummies(zeit_features['month'], prefix = 'month', dtype = int) ], axis = 1)\\nzeit_features = pd.concat( [ zeit_features.drop('hour', axis = 1), pd.get_dummies(zeit_features['hour'], prefix = 'hour', dtype = int) ], axis = 1)\""
      ]
     },
     "execution_count": 15,
     "metadata": {},
     "output_type": "execute_result"
    }
   ],
   "source": [
    "\"\"\"wetter_features = df_unscaled[['temperature_2m (°C)', 'relative_humidity_2m (%)', 'cloud_cover (%)', 'precipitation (mm)']]\n",
    "zeit_features = df_unscaled[['dayofweek', 'month', 'hour']]\n",
    "zeit_features = pd.concat( [ zeit_features.drop('dayofweek', axis = 1), pd.get_dummies(zeit_features['dayofweek'], prefix = 'dow', dtype = int) ], axis = 1)\n",
    "zeit_features = pd.concat( [ zeit_features.drop('month', axis = 1), pd.get_dummies(zeit_features['month'], prefix = 'month', dtype = int) ], axis = 1)\n",
    "zeit_features = pd.concat( [ zeit_features.drop('hour', axis = 1), pd.get_dummies(zeit_features['hour'], prefix = 'hour', dtype = int) ], axis = 1)\"\"\""
   ]
  },
  {
   "cell_type": "code",
   "execution_count": 16,
   "id": "b3acc6b2-b19d-4927-a813-898455bea783",
   "metadata": {},
   "outputs": [
    {
     "name": "stdout",
     "output_type": "stream",
     "text": [
      "Betrachtetes Fahrzeug: Fahrräder\n",
      "Verwendeter Algorithmus: LinReg\n",
      "Splitting- Methode: train_test_split\n",
      "Verwendete Features: Wetter\n",
      "bester R^2: 0.3478314272354167\n",
      "\n",
      "\n"
     ]
    }
   ],
   "source": [
    "if True:\n",
    "    for splitting_method in ['train_test_split']: #['train_test_split', 'vor/nach 1. Jan 2023']:\n",
    "        for feature_auswahl in ['Wetter']:#['Wetter','Zeit','Wetter + Zeit']:\n",
    "            for fahrzeug in ['Fahrräder']:#['PKW', 'Fahrräder']:\n",
    "                for ML_Alg in ['LinReg']:#['LinReg', 'GradientBoost','SVR','RandomForest']:\n",
    "                    best_r2 = - float(\"inf\")\n",
    "                    df = df_unscaled.drop(columns = df_unscaled.columns)\n",
    "                    use_weather_features = ('Wetter' in feature_auswahl)\n",
    "                    use_time_features = ('Zeit' in feature_auswahl)\n",
    "                    if use_weather_features:\n",
    "                        df[wetter_features.columns] = wetter_features\n",
    "                    if use_time_features:\n",
    "                        df[zeit_features.columns] = zeit_features\n",
    "                    df[[f'Anzahl {fahrzeug}']] = df_unscaled[[f'Anzahl {fahrzeug}']]\n",
    "                    \n",
    "                    X = df.drop(columns = [f'Anzahl {fahrzeug}'])\n",
    "                    y = df[[f'Anzahl {fahrzeug}']]\n",
    "    \n",
    "                    if splitting_method == 'train_test_split':\n",
    "                        X_train, X_test, y_train, y_test = train_test_split(X,y, train_size = 0.8)\n",
    "                    else:\n",
    "                        split_filt = ( y.index < '2023-01-01 00:00:00' )\n",
    "                        X_train, y_train = X[split_filt], y[split_filt]\n",
    "                        X_test, y_test = X[~split_filt], y[~split_filt]\n",
    "    \n",
    "                    if ML_Alg == 'LinReg':\n",
    "                        model = LinearRegression()\n",
    "                    elif ML_Alg == 'GradientBoost':\n",
    "                        model == GradientBoostingRegressor()\n",
    "                    elif ML_Alg == 'SVR':\n",
    "                        model = SVR(kernel='rbf', C=100)\n",
    "                    elif ML_Alg == 'RandomForest':\n",
    "                        model = RandomForestRegressor(n_estimators=200, random_state=42, max_depth = 10, min_samples_leaf = 1, min_samples_split = 10)\n",
    "                    \n",
    "                    model.fit(X_train, y_train[f'Anzahl {fahrzeug}'])\n",
    "                    y_pred = model.predict(X_test)\n",
    "                    #mse = mean_squared_error(y_test, y_pred)\n",
    "                    #sd = np.sqrt(mse)\n",
    "                    r2 = r2_score(y_test, y_pred)\n",
    "    \n",
    "                    print(f\"Betrachtetes Fahrzeug: {fahrzeug}\")\n",
    "                    print(f\"Verwendeter Algorithmus: {ML_Alg}\")\n",
    "                    print(f'Splitting- Methode: {splitting_method}')\n",
    "                    print(f\"Verwendete Features: {feature_auswahl}\")\n",
    "                    print(f\"bester R^2: {r2}\")\n",
    "                    print(\"\")\n",
    "                    print(\"\")"
   ]
  },
  {
   "cell_type": "code",
   "execution_count": null,
   "id": "aa91a363-8f42-48eb-962d-393d8706db5b",
   "metadata": {},
   "outputs": [],
   "source": []
  }
 ],
 "metadata": {
  "kernelspec": {
   "display_name": "Python 3 (ipykernel)",
   "language": "python",
   "name": "python3"
  },
  "language_info": {
   "codemirror_mode": {
    "name": "ipython",
    "version": 3
   },
   "file_extension": ".py",
   "mimetype": "text/x-python",
   "name": "python",
   "nbconvert_exporter": "python",
   "pygments_lexer": "ipython3",
   "version": "3.12.6"
  }
 },
 "nbformat": 4,
 "nbformat_minor": 5
}
